{
 "cells": [
  {
   "cell_type": "code",
   "execution_count": 1,
   "id": "d50f9733",
   "metadata": {
    "editable": true,
    "slideshow": {
     "slide_type": ""
    },
    "tags": []
   },
   "outputs": [],
   "source": [
    "from tools.wrapper_tools import download_file_and_check_sha256\n",
    "from VoxWrapper import VoxWrapper"
   ]
  },
  {
   "cell_type": "code",
   "execution_count": 3,
   "id": "2af9c879-2f1c-4d26-8422-a4c0f8ee574e",
   "metadata": {
    "scrolled": true
   },
   "outputs": [
    {
     "name": "stdout",
     "output_type": "stream",
     "text": [
      "Current CUDA Device Number: 0\n",
      "Embedding size is 512, encoder SAP.\n",
      "Initialised AngleProto\n",
      "Initialised Adam optimizer\n",
      "Initialised step LR scheduler\n",
      "Model parameters loaded from: ./models/weights/RawNetSE34L/model000000500.model\n",
      "Separation threshold set to: 0.5\n"
     ]
    }
   ],
   "source": [
    "file1_path = '/media/rvirgilli/BigFour/datasets/vox1_dev/wav/id10001/7gWzIy6yIIk/00001.wav'\n",
    "file2_path = '/media/rvirgilli/BigFour/datasets/vox1_dev/wav/id10001/7gWzIy6yIIk/00003.wav'\n",
    "\n",
    "vw = VoxWrapper(model_type=\"model500\", separation_threshold = 0.5)"
   ]
  },
  {
   "cell_type": "code",
   "execution_count": 4,
   "id": "2a76c747-6f99-47a2-b356-354ffa295598",
   "metadata": {},
   "outputs": [
    {
     "name": "stdout",
     "output_type": "stream",
     "text": [
      "Embeddings tensor shape: torch.Size([10, 512])\n"
     ]
    }
   ],
   "source": [
    "embs1 = vw.generate_embeddings(file1_path)\n",
    "embs2 = vw.generate_embeddings(file2_path)\n",
    "print('Embeddings tensor shape:', embs1.shape)"
   ]
  },
  {
   "cell_type": "code",
   "execution_count": 5,
   "id": "159ea3a5-c745-472a-b235-57f3b39ed17c",
   "metadata": {},
   "outputs": [
    {
     "data": {
      "text/plain": [
       "(0.38393333554267883, False)"
      ]
     },
     "execution_count": 5,
     "metadata": {},
     "output_type": "execute_result"
    }
   ],
   "source": [
    "vw.calculate_similarity(embs1, embs2)"
   ]
  },
  {
   "cell_type": "code",
   "execution_count": null,
   "id": "48138e4f-006c-4d3e-aafc-205538abfc4a",
   "metadata": {},
   "outputs": [],
   "source": []
  }
 ],
 "metadata": {
  "kernelspec": {
   "display_name": "Python 3 (ipykernel)",
   "language": "python",
   "name": "python3"
  },
  "language_info": {
   "codemirror_mode": {
    "name": "ipython",
    "version": 3
   },
   "file_extension": ".py",
   "mimetype": "text/x-python",
   "name": "python",
   "nbconvert_exporter": "python",
   "pygments_lexer": "ipython3",
   "version": "3.9.18"
  }
 },
 "nbformat": 4,
 "nbformat_minor": 5
}
